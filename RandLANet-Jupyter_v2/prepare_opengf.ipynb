{
 "cells": [
  {
   "cell_type": "markdown",
   "source": [
    "# 第1步 导入相关库"
   ],
   "metadata": {
    "collapsed": false
   }
  },
  {
   "cell_type": "code",
   "execution_count": 1,
   "outputs": [],
   "source": [
    "import numpy as np\n",
    "from pathlib import Path\n",
    "from tqdm import tqdm\n",
    "import pdal\n",
    "import json\n",
    "from sklearn.neighbors import KDTree\n",
    "import pickle\n",
    "from prepare_opengf import normalize_attributes\n",
    "import os"
   ],
   "metadata": {
    "collapsed": false,
    "ExecuteTime": {
     "end_time": "2025-08-14T02:38:08.756063600Z",
     "start_time": "2025-08-14T02:38:07.514056Z"
    }
   }
  },
  {
   "cell_type": "markdown",
   "source": [
    "# 第2步 编写prepare_opengf 文件执行入口"
   ],
   "metadata": {
    "collapsed": false
   }
  },
  {
   "cell_type": "markdown",
   "source": [
    "### 2.1 配置预处理参数"
   ],
   "metadata": {
    "collapsed": false
   }
  },
  {
   "cell_type": "code",
   "execution_count": 2,
   "outputs": [],
   "source": [
    "data_dict = {\n",
    "    \"data_root\": \"E:/OpenGF\",  # 原始数据根目录\n",
    "    \"num_classes\": 2,  # 点云标注的类别数\n",
    "    \"grid_size\": 5.0,  # 降采样格网尺寸，1.0代表1m * 1m的范围内取一个点\n",
    "    \"HasIntensity\": True,  # 数据集是否有intensity属性，有也可以填False，表示不使用，默认使用\n",
    "    \"HasRGB\": False  # 数据集是否有RGB属性，有也可以填False，表示不使用\n",
    "}"
   ],
   "metadata": {
    "collapsed": false,
    "ExecuteTime": {
     "end_time": "2025-08-14T02:38:08.771066500Z",
     "start_time": "2025-08-14T02:38:08.757065700Z"
    }
   }
  },
  {
   "cell_type": "markdown",
   "source": [
    "# 第3步 laz文件预处理"
   ],
   "metadata": {
    "collapsed": false
   }
  },
  {
   "cell_type": "markdown",
   "source": [
    "## 3.1 创建预处理文件存放目录获取所有待处理laz文件"
   ],
   "metadata": {
    "collapsed": false
   }
  },
  {
   "cell_type": "code",
   "execution_count": 3,
   "outputs": [
    {
     "name": "stdout",
     "output_type": "stream",
     "text": [
      "[WindowsPath('E:/OpenGF/raw/Test/T1.laz'), WindowsPath('E:/OpenGF/raw/Test/T2.laz'), WindowsPath('E:/OpenGF/raw/Train/Metropolis/S1/S1_1.laz'), WindowsPath('E:/OpenGF/raw/Train/Metropolis/S1/S1_10.laz'), WindowsPath('E:/OpenGF/raw/Train/Metropolis/S1/S1_11.laz'), WindowsPath('E:/OpenGF/raw/Train/Metropolis/S1/S1_12.laz'), WindowsPath('E:/OpenGF/raw/Train/Metropolis/S1/S1_13.laz'), WindowsPath('E:/OpenGF/raw/Train/Metropolis/S1/S1_14.laz'), WindowsPath('E:/OpenGF/raw/Train/Metropolis/S1/S1_15.laz'), WindowsPath('E:/OpenGF/raw/Train/Metropolis/S1/S1_16.laz'), WindowsPath('E:/OpenGF/raw/Train/Metropolis/S1/S1_17.laz'), WindowsPath('E:/OpenGF/raw/Train/Metropolis/S1/S1_18.laz'), WindowsPath('E:/OpenGF/raw/Train/Metropolis/S1/S1_19.laz'), WindowsPath('E:/OpenGF/raw/Train/Metropolis/S1/S1_2.laz'), WindowsPath('E:/OpenGF/raw/Train/Metropolis/S1/S1_3.laz'), WindowsPath('E:/OpenGF/raw/Train/Metropolis/S1/S1_4.laz'), WindowsPath('E:/OpenGF/raw/Train/Metropolis/S1/S1_5.laz'), WindowsPath('E:/OpenGF/raw/Train/Metropolis/S1/S1_6.laz'), WindowsPath('E:/OpenGF/raw/Train/Metropolis/S1/S1_7.laz'), WindowsPath('E:/OpenGF/raw/Train/Metropolis/S1/S1_8.laz'), WindowsPath('E:/OpenGF/raw/Train/Metropolis/S1/S1_9.laz'), WindowsPath('E:/OpenGF/raw/Train/Metropolis/S2/S2_1.laz'), WindowsPath('E:/OpenGF/raw/Train/Metropolis/S2/S2_10.laz'), WindowsPath('E:/OpenGF/raw/Train/Metropolis/S2/S2_11.laz'), WindowsPath('E:/OpenGF/raw/Train/Metropolis/S2/S2_12.laz'), WindowsPath('E:/OpenGF/raw/Train/Metropolis/S2/S2_13.laz'), WindowsPath('E:/OpenGF/raw/Train/Metropolis/S2/S2_14.laz'), WindowsPath('E:/OpenGF/raw/Train/Metropolis/S2/S2_15.laz'), WindowsPath('E:/OpenGF/raw/Train/Metropolis/S2/S2_16.laz'), WindowsPath('E:/OpenGF/raw/Train/Metropolis/S2/S2_17.laz'), WindowsPath('E:/OpenGF/raw/Train/Metropolis/S2/S2_18.laz'), WindowsPath('E:/OpenGF/raw/Train/Metropolis/S2/S2_19.laz'), WindowsPath('E:/OpenGF/raw/Train/Metropolis/S2/S2_2.laz'), WindowsPath('E:/OpenGF/raw/Train/Metropolis/S2/S2_3.laz'), WindowsPath('E:/OpenGF/raw/Train/Metropolis/S2/S2_4.laz'), WindowsPath('E:/OpenGF/raw/Train/Metropolis/S2/S2_5.laz'), WindowsPath('E:/OpenGF/raw/Train/Metropolis/S2/S2_6.laz'), WindowsPath('E:/OpenGF/raw/Train/Metropolis/S2/S2_7.laz'), WindowsPath('E:/OpenGF/raw/Train/Metropolis/S2/S2_8.laz'), WindowsPath('E:/OpenGF/raw/Train/Metropolis/S2/S2_9.laz'), WindowsPath('E:/OpenGF/raw/Train/Mountain/S7/S7_1.laz'), WindowsPath('E:/OpenGF/raw/Train/Mountain/S7/S7_2.laz'), WindowsPath('E:/OpenGF/raw/Train/Mountain/S7/S7_3.laz'), WindowsPath('E:/OpenGF/raw/Train/Mountain/S7/S7_4.laz'), WindowsPath('E:/OpenGF/raw/Train/Mountain/S7/S7_5.laz'), WindowsPath('E:/OpenGF/raw/Train/Mountain/S7/S7_6.laz'), WindowsPath('E:/OpenGF/raw/Train/Mountain/S7/S7_7.laz'), WindowsPath('E:/OpenGF/raw/Train/Mountain/S7/S7_8.laz'), WindowsPath('E:/OpenGF/raw/Train/Mountain/S7/S7_9.laz'), WindowsPath('E:/OpenGF/raw/Train/Mountain/S8/S8_1.laz'), WindowsPath('E:/OpenGF/raw/Train/Mountain/S8/S8_2.laz'), WindowsPath('E:/OpenGF/raw/Train/Mountain/S8/S8_3.laz'), WindowsPath('E:/OpenGF/raw/Train/Mountain/S8/S8_4.laz'), WindowsPath('E:/OpenGF/raw/Train/Mountain/S8/S8_5.laz'), WindowsPath('E:/OpenGF/raw/Train/Mountain/S8/S8_6.laz'), WindowsPath('E:/OpenGF/raw/Train/Mountain/S8/S8_7.laz'), WindowsPath('E:/OpenGF/raw/Train/Mountain/S8/S8_8.laz'), WindowsPath('E:/OpenGF/raw/Train/Mountain/S8/S8_9.laz'), WindowsPath('E:/OpenGF/raw/Train/Mountain/S9/S9_1.laz'), WindowsPath('E:/OpenGF/raw/Train/Mountain/S9/S9_10.laz'), WindowsPath('E:/OpenGF/raw/Train/Mountain/S9/S9_11.laz'), WindowsPath('E:/OpenGF/raw/Train/Mountain/S9/S9_12.laz'), WindowsPath('E:/OpenGF/raw/Train/Mountain/S9/S9_13.laz'), WindowsPath('E:/OpenGF/raw/Train/Mountain/S9/S9_14.laz'), WindowsPath('E:/OpenGF/raw/Train/Mountain/S9/S9_15.laz'), WindowsPath('E:/OpenGF/raw/Train/Mountain/S9/S9_16.laz'), WindowsPath('E:/OpenGF/raw/Train/Mountain/S9/S9_17.laz'), WindowsPath('E:/OpenGF/raw/Train/Mountain/S9/S9_18.laz'), WindowsPath('E:/OpenGF/raw/Train/Mountain/S9/S9_19.laz'), WindowsPath('E:/OpenGF/raw/Train/Mountain/S9/S9_2.laz'), WindowsPath('E:/OpenGF/raw/Train/Mountain/S9/S9_3.laz'), WindowsPath('E:/OpenGF/raw/Train/Mountain/S9/S9_4.laz'), WindowsPath('E:/OpenGF/raw/Train/Mountain/S9/S9_5.laz'), WindowsPath('E:/OpenGF/raw/Train/Mountain/S9/S9_6.laz'), WindowsPath('E:/OpenGF/raw/Train/Mountain/S9/S9_7.laz'), WindowsPath('E:/OpenGF/raw/Train/Mountain/S9/S9_8.laz'), WindowsPath('E:/OpenGF/raw/Train/Mountain/S9/S9_9.laz'), WindowsPath('E:/OpenGF/raw/Train/SmallCity/S3/S3_1.laz'), WindowsPath('E:/OpenGF/raw/Train/SmallCity/S3/S3_2.laz'), WindowsPath('E:/OpenGF/raw/Train/SmallCity/S3/S3_3.laz'), WindowsPath('E:/OpenGF/raw/Train/SmallCity/S3/S3_4.laz'), WindowsPath('E:/OpenGF/raw/Train/SmallCity/S3/S3_5.laz'), WindowsPath('E:/OpenGF/raw/Train/SmallCity/S3/S3_6.laz'), WindowsPath('E:/OpenGF/raw/Train/SmallCity/S3/S3_7.laz'), WindowsPath('E:/OpenGF/raw/Train/SmallCity/S3/S3_8.laz'), WindowsPath('E:/OpenGF/raw/Train/SmallCity/S3/S3_9.laz'), WindowsPath('E:/OpenGF/raw/Train/SmallCity/S4/S4_1.laz'), WindowsPath('E:/OpenGF/raw/Train/SmallCity/S4/S4_10.laz'), WindowsPath('E:/OpenGF/raw/Train/SmallCity/S4/S4_11.laz'), WindowsPath('E:/OpenGF/raw/Train/SmallCity/S4/S4_12.laz'), WindowsPath('E:/OpenGF/raw/Train/SmallCity/S4/S4_13.laz'), WindowsPath('E:/OpenGF/raw/Train/SmallCity/S4/S4_14.laz'), WindowsPath('E:/OpenGF/raw/Train/SmallCity/S4/S4_15.laz'), WindowsPath('E:/OpenGF/raw/Train/SmallCity/S4/S4_16.laz'), WindowsPath('E:/OpenGF/raw/Train/SmallCity/S4/S4_17.laz'), WindowsPath('E:/OpenGF/raw/Train/SmallCity/S4/S4_18.laz'), WindowsPath('E:/OpenGF/raw/Train/SmallCity/S4/S4_19.laz'), WindowsPath('E:/OpenGF/raw/Train/SmallCity/S4/S4_2.laz'), WindowsPath('E:/OpenGF/raw/Train/SmallCity/S4/S4_3.laz'), WindowsPath('E:/OpenGF/raw/Train/SmallCity/S4/S4_4.laz'), WindowsPath('E:/OpenGF/raw/Train/SmallCity/S4/S4_5.laz'), WindowsPath('E:/OpenGF/raw/Train/SmallCity/S4/S4_6.laz'), WindowsPath('E:/OpenGF/raw/Train/SmallCity/S4/S4_7.laz'), WindowsPath('E:/OpenGF/raw/Train/SmallCity/S4/S4_8.laz'), WindowsPath('E:/OpenGF/raw/Train/SmallCity/S4/S4_9.laz'), WindowsPath('E:/OpenGF/raw/Train/SmallCity/S5/S5_1.laz'), WindowsPath('E:/OpenGF/raw/Train/SmallCity/S5/S5_2.laz'), WindowsPath('E:/OpenGF/raw/Train/SmallCity/S5/S5_3.laz'), WindowsPath('E:/OpenGF/raw/Train/SmallCity/S5/S5_4.laz'), WindowsPath('E:/OpenGF/raw/Train/SmallCity/S5/S5_5.laz'), WindowsPath('E:/OpenGF/raw/Train/SmallCity/S5/S5_6.laz'), WindowsPath('E:/OpenGF/raw/Train/SmallCity/S5/S5_7.laz'), WindowsPath('E:/OpenGF/raw/Train/SmallCity/S5/S5_8.laz'), WindowsPath('E:/OpenGF/raw/Train/SmallCity/S5/S5_9.laz'), WindowsPath('E:/OpenGF/raw/Train/Village/S6/S6_1.laz'), WindowsPath('E:/OpenGF/raw/Train/Village/S6/S6_10.laz'), WindowsPath('E:/OpenGF/raw/Train/Village/S6/S6_11.laz'), WindowsPath('E:/OpenGF/raw/Train/Village/S6/S6_12.laz'), WindowsPath('E:/OpenGF/raw/Train/Village/S6/S6_13.laz'), WindowsPath('E:/OpenGF/raw/Train/Village/S6/S6_14.laz'), WindowsPath('E:/OpenGF/raw/Train/Village/S6/S6_15.laz'), WindowsPath('E:/OpenGF/raw/Train/Village/S6/S6_16.laz'), WindowsPath('E:/OpenGF/raw/Train/Village/S6/S6_17.laz'), WindowsPath('E:/OpenGF/raw/Train/Village/S6/S6_18.laz'), WindowsPath('E:/OpenGF/raw/Train/Village/S6/S6_19.laz'), WindowsPath('E:/OpenGF/raw/Train/Village/S6/S6_2.laz'), WindowsPath('E:/OpenGF/raw/Train/Village/S6/S6_20.laz'), WindowsPath('E:/OpenGF/raw/Train/Village/S6/S6_21.laz'), WindowsPath('E:/OpenGF/raw/Train/Village/S6/S6_22.laz'), WindowsPath('E:/OpenGF/raw/Train/Village/S6/S6_23.laz'), WindowsPath('E:/OpenGF/raw/Train/Village/S6/S6_24.laz'), WindowsPath('E:/OpenGF/raw/Train/Village/S6/S6_25.laz'), WindowsPath('E:/OpenGF/raw/Train/Village/S6/S6_26.laz'), WindowsPath('E:/OpenGF/raw/Train/Village/S6/S6_27.laz'), WindowsPath('E:/OpenGF/raw/Train/Village/S6/S6_28.laz'), WindowsPath('E:/OpenGF/raw/Train/Village/S6/S6_29.laz'), WindowsPath('E:/OpenGF/raw/Train/Village/S6/S6_3.laz'), WindowsPath('E:/OpenGF/raw/Train/Village/S6/S6_30.laz'), WindowsPath('E:/OpenGF/raw/Train/Village/S6/S6_31.laz'), WindowsPath('E:/OpenGF/raw/Train/Village/S6/S6_32.laz'), WindowsPath('E:/OpenGF/raw/Train/Village/S6/S6_33.laz'), WindowsPath('E:/OpenGF/raw/Train/Village/S6/S6_34.laz'), WindowsPath('E:/OpenGF/raw/Train/Village/S6/S6_35.laz'), WindowsPath('E:/OpenGF/raw/Train/Village/S6/S6_36.laz'), WindowsPath('E:/OpenGF/raw/Train/Village/S6/S6_37.laz'), WindowsPath('E:/OpenGF/raw/Train/Village/S6/S6_38.laz'), WindowsPath('E:/OpenGF/raw/Train/Village/S6/S6_39.laz'), WindowsPath('E:/OpenGF/raw/Train/Village/S6/S6_4.laz'), WindowsPath('E:/OpenGF/raw/Train/Village/S6/S6_5.laz'), WindowsPath('E:/OpenGF/raw/Train/Village/S6/S6_6.laz'), WindowsPath('E:/OpenGF/raw/Train/Village/S6/S6_7.laz'), WindowsPath('E:/OpenGF/raw/Train/Village/S6/S6_8.laz'), WindowsPath('E:/OpenGF/raw/Train/Village/S6/S6_9.laz'), WindowsPath('E:/OpenGF/raw/Validation/S1_v.laz'), WindowsPath('E:/OpenGF/raw/Validation/S2_v.laz'), WindowsPath('E:/OpenGF/raw/Validation/S3_v.laz'), WindowsPath('E:/OpenGF/raw/Validation/S4_v.laz'), WindowsPath('E:/OpenGF/raw/Validation/S5_v.laz'), WindowsPath('E:/OpenGF/raw/Validation/S6_v.laz'), WindowsPath('E:/OpenGF/raw/Validation/S7_v.laz'), WindowsPath('E:/OpenGF/raw/Validation/S8_v.laz'), WindowsPath('E:/OpenGF/raw/Validation/S9_v.laz')]\n"
     ]
    }
   ],
   "source": [
    "data_dict[\"root\"] = os.path.abspath(data_dict[\"data_root\"])\n",
    "processed_dir = os.path.join(data_dict[\"data_root\"], f'processed-{data_dict[\"grid_size\"]:.2f}')\n",
    "if not os.path.exists(processed_dir):\n",
    "    os.mkdir(processed_dir)\n",
    "raw_root_dir = os.path.join(data_dict[\"data_root\"], 'raw')\n",
    "raw_root_dir = Path(raw_root_dir)\n",
    "paths = []\n",
    "for file_path in raw_root_dir.rglob('*.la[sz]'):\n",
    "    if file_path.is_file():\n",
    "        paths.append(file_path)\n",
    "print(paths)"
   ],
   "metadata": {
    "collapsed": false,
    "ExecuteTime": {
     "end_time": "2025-08-14T02:38:08.864095100Z",
     "start_time": "2025-08-14T02:38:08.772065900Z"
    }
   }
  },
  {
   "cell_type": "markdown",
   "source": [
    "## 3.2 将所有laz数据转为npy，并构建对应文件kdtree\n",
    "1. 利用pdal库读取laz数据，并将采样，将原本1:others、2:ground的标签转为0:others，1:ground\n",
    "2. 判断原始数据是否包含RGB和Intensity，有就将相关特征存入npy文件"
   ],
   "metadata": {
    "collapsed": false
   }
  },
  {
   "cell_type": "code",
   "execution_count": 4,
   "outputs": [
    {
     "name": "stderr",
     "output_type": "stream",
     "text": [
      "Processing...: 100%|██████████| 162/162 [03:59<00:00,  1.48s/it]\n"
     ]
    }
   ],
   "source": [
    "class_counts = None\n",
    "train = []\n",
    "test = []\n",
    "val = []\n",
    "# 1. 首先每个文件都生成一个 json 的索引，统计 intensity 最大最小值\n",
    "for raw_path in tqdm(paths, desc='Processing...'):\n",
    "    raw_path = str(raw_path)\n",
    "    name = os.path.splitext(os.path.basename(raw_path))[0]\n",
    "    filename = name + '.npy'\n",
    "\n",
    "    pth_path = os.path.join(processed_dir, filename)\n",
    "    kdt_path = os.path.join(processed_dir, name + '_KDTree.pkl')\n",
    "\n",
    "    if 'Train' in raw_path:\n",
    "        train.append(name)\n",
    "    elif 'Test' in raw_path:\n",
    "        test.append(name)\n",
    "    elif 'Validation' in raw_path:\n",
    "        val.append(name)\n",
    "    raw_path = raw_path.replace(os.sep, '/')\n",
    "\n",
    "    pipeline = pdal.Pipeline()\n",
    "    pipeline |= pdal.Reader.las(filename=raw_path)\n",
    "    pipeline |= pdal.Filter.stats(dimensions='Intensity')\n",
    "    pipeline |= pdal.Filter.voxelcenternearestneighbor(cell=data_dict[\"grid_size\"])\n",
    "    # outlier剔除场景中过高或过低的异常点\n",
    "    pipeline |= pdal.Filter.outlier(method='statistical',\n",
    "                                    multiplier=3.0)\n",
    "    pipeline |= pdal.Filter.range(limits='Classification[1:2]')\n",
    "    pipeline |= pdal.Filter.assign(value=[\"Classification = 0 WHERE Classification == 1\",\n",
    "                                          \"Classification = 1 WHERE Classification == 2\"])\n",
    "\n",
    "    count = pipeline.execute()\n",
    "\n",
    "    arrays = pipeline.arrays[0]\n",
    "    metadata = pipeline.metadata['metadata']\n",
    "    stats = metadata['filters.stats']['statistic'][0]\n",
    "\n",
    "    bounds = metadata['readers.las']\n",
    "    minx = bounds['minx']\n",
    "    miny = bounds['miny']\n",
    "    minz = bounds['minz']\n",
    "\n",
    "    pos = np.concatenate([\n",
    "        np.expand_dims(arrays['X'] - minx, 1),\n",
    "        np.expand_dims(arrays['Y'] - miny, 1),\n",
    "        np.expand_dims(arrays['Z'] - minz, 1)\n",
    "    ], axis=-1).astype(np.float32)\n",
    "\n",
    "    label = arrays['Classification']\n",
    "\n",
    "    point_npy = np.zeros(pos.shape[0], dtype=[\n",
    "        ('x', np.float32),  # X坐标 (浮点数)\n",
    "        ('y', np.float32),  # Y坐标 (浮点数)\n",
    "        ('z', np.float32),  # Z坐标 (浮点数)\n",
    "        ('intensity', np.float32),  # 强度值 (浮点数)\n",
    "        ('r', np.uint8),  # 红色分量 (0-255)\n",
    "        ('g', np.uint8),  # 绿色分量 (0-255)\n",
    "        ('b', np.uint8),  # 蓝色分量 (0-255)\n",
    "        ('class', np.uint8)  # 类别分量 (int)\n",
    "    ])\n",
    "\n",
    "    if data_dict[\"HasRGB\"]:\n",
    "        red = arrays['Red']\n",
    "        green = arrays['Green']\n",
    "        blue = arrays['Blue']\n",
    "\n",
    "        point_npy['r'] = red\n",
    "        point_npy['g'] = green\n",
    "        point_npy['b'] = blue\n",
    "\n",
    "    point_npy['x'] = (arrays['X'] - minx).astype(np.float32)\n",
    "    point_npy['y'] = (arrays['Y'] - miny).astype(np.float32)\n",
    "    point_npy['z'] = (arrays['Z'] - minz).astype(np.float32)\n",
    "    point_npy['class'] = label\n",
    "\n",
    "    if data_dict[\"HasIntensity\"]:\n",
    "        stats = metadata['filters.stats']['statistic'][0]\n",
    "        intensity = normalize_attributes(arrays['Intensity'], 0.0, (float)(stats['maximum']),\n",
    "                                         stats['average'],\n",
    "                                         stats['stddev'])\n",
    "        point_npy['intensity'] = intensity.squeeze()\n",
    "\n",
    "\n",
    "    np.save(pth_path, point_npy)\n",
    "\n",
    "    kdtree = KDTree(pos)\n",
    "    with open(kdt_path, 'wb') as f:\n",
    "        pickle.dump(kdtree, f)\n",
    "\n",
    "    _, counts = np.unique(label, return_counts=True)\n",
    "    class_counts = class_counts + counts if class_counts is not None else counts"
   ],
   "metadata": {
    "collapsed": false,
    "ExecuteTime": {
     "end_time": "2025-08-14T02:42:08.604262800Z",
     "start_time": "2025-08-14T02:38:08.864095100Z"
    }
   }
  },
  {
   "cell_type": "markdown",
   "source": [
    "## 3.3 将train、validation、test目录下文件的名称以及样本类别数量写入metadata.json文件"
   ],
   "metadata": {
    "collapsed": false
   }
  },
  {
   "cell_type": "code",
   "execution_count": 5,
   "outputs": [
    {
     "name": "stdout",
     "output_type": "stream",
     "text": [
      "{'train': ['S1_1', 'S1_10', 'S1_11', 'S1_12', 'S1_13', 'S1_14', 'S1_15', 'S1_16', 'S1_17', 'S1_18', 'S1_19', 'S1_2', 'S1_3', 'S1_4', 'S1_5', 'S1_6', 'S1_7', 'S1_8', 'S1_9', 'S2_1', 'S2_10', 'S2_11', 'S2_12', 'S2_13', 'S2_14', 'S2_15', 'S2_16', 'S2_17', 'S2_18', 'S2_19', 'S2_2', 'S2_3', 'S2_4', 'S2_5', 'S2_6', 'S2_7', 'S2_8', 'S2_9', 'S7_1', 'S7_2', 'S7_3', 'S7_4', 'S7_5', 'S7_6', 'S7_7', 'S7_8', 'S7_9', 'S8_1', 'S8_2', 'S8_3', 'S8_4', 'S8_5', 'S8_6', 'S8_7', 'S8_8', 'S8_9', 'S9_1', 'S9_10', 'S9_11', 'S9_12', 'S9_13', 'S9_14', 'S9_15', 'S9_16', 'S9_17', 'S9_18', 'S9_19', 'S9_2', 'S9_3', 'S9_4', 'S9_5', 'S9_6', 'S9_7', 'S9_8', 'S9_9', 'S3_1', 'S3_2', 'S3_3', 'S3_4', 'S3_5', 'S3_6', 'S3_7', 'S3_8', 'S3_9', 'S4_1', 'S4_10', 'S4_11', 'S4_12', 'S4_13', 'S4_14', 'S4_15', 'S4_16', 'S4_17', 'S4_18', 'S4_19', 'S4_2', 'S4_3', 'S4_4', 'S4_5', 'S4_6', 'S4_7', 'S4_8', 'S4_9', 'S5_1', 'S5_2', 'S5_3', 'S5_4', 'S5_5', 'S5_6', 'S5_7', 'S5_8', 'S5_9', 'S6_1', 'S6_10', 'S6_11', 'S6_12', 'S6_13', 'S6_14', 'S6_15', 'S6_16', 'S6_17', 'S6_18', 'S6_19', 'S6_2', 'S6_20', 'S6_21', 'S6_22', 'S6_23', 'S6_24', 'S6_25', 'S6_26', 'S6_27', 'S6_28', 'S6_29', 'S6_3', 'S6_30', 'S6_31', 'S6_32', 'S6_33', 'S6_34', 'S6_35', 'S6_36', 'S6_37', 'S6_38', 'S6_39', 'S6_4', 'S6_5', 'S6_6', 'S6_7', 'S6_8', 'S6_9'], 'val': ['S1_v', 'S2_v', 'S3_v', 'S4_v', 'S5_v', 'S6_v', 'S7_v', 'S8_v', 'S9_v'], 'test': ['T1', 'T2'], 'class_weights': [3602563, 1502701]}\n"
     ]
    }
   ],
   "source": [
    "splits = {\n",
    "    'train': train,\n",
    "    'val': val,\n",
    "    'test': test,\n",
    "    'class_weights': class_counts.tolist(),\n",
    "}\n",
    "print(splits)\n",
    "json_path = os.path.join(processed_dir, 'metadata.json')\n",
    "with open(json_path, 'w') as f:\n",
    "    json.dump(splits, f, indent=4)"
   ],
   "metadata": {
    "collapsed": false,
    "ExecuteTime": {
     "end_time": "2025-08-14T02:42:08.619298600Z",
     "start_time": "2025-08-14T02:42:08.606269800Z"
    }
   }
  },
  {
   "cell_type": "code",
   "execution_count": 5,
   "outputs": [],
   "source": [],
   "metadata": {
    "collapsed": false,
    "ExecuteTime": {
     "end_time": "2025-08-14T02:42:08.665297100Z",
     "start_time": "2025-08-14T02:42:08.620299900Z"
    }
   }
  },
  {
   "cell_type": "code",
   "execution_count": null,
   "outputs": [],
   "source": [],
   "metadata": {
    "collapsed": false
   }
  }
 ],
 "metadata": {
  "kernelspec": {
   "display_name": "Python 3",
   "language": "python",
   "name": "python3"
  },
  "language_info": {
   "codemirror_mode": {
    "name": "ipython",
    "version": 2
   },
   "file_extension": ".py",
   "mimetype": "text/x-python",
   "name": "python",
   "nbconvert_exporter": "python",
   "pygments_lexer": "ipython2",
   "version": "2.7.6"
  }
 },
 "nbformat": 4,
 "nbformat_minor": 0
}
