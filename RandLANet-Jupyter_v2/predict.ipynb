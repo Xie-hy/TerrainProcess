{
 "cells": [
  {
   "cell_type": "markdown",
   "source": [
    "## 第1步 导入相关库"
   ],
   "metadata": {
    "collapsed": false
   }
  },
  {
   "cell_type": "code",
   "execution_count": 3,
   "outputs": [],
   "source": [
    "from tqdm import tqdm\n",
    "import numpy as np\n",
    "import torch\n",
    "from torch.utils.data import DataLoader\n",
    "import pdal\n",
    "import laspy\n",
    "\n",
    "from model import RandLANet\n",
    "import os\n",
    "from predict import PredictCloudDataset, ActiveLearningSampler"
   ],
   "metadata": {
    "collapsed": false,
    "ExecuteTime": {
     "end_time": "2025-08-14T01:44:17.709941100Z",
     "start_time": "2025-08-14T01:44:13.071394500Z"
    }
   }
  },
  {
   "cell_type": "markdown",
   "source": [
    "## 第2步 将PredictCloudDataset模块嵌入\n",
    "PredictCloudDataset 将原始点云载入内存并构建kdtree"
   ],
   "metadata": {
    "collapsed": false
   }
  },
  {
   "cell_type": "markdown",
   "source": [
    "## 第3步 将ActiveLearningSampler模块嵌入\n",
    "ActiveLearningSampler利用计算ossibility机制实现对输入点云的邻近采样"
   ],
   "metadata": {
    "collapsed": false
   }
  },
  {
   "cell_type": "markdown",
   "source": [
    "## 第4步 配置参数文件"
   ],
   "metadata": {
    "collapsed": false
   }
  },
  {
   "cell_type": "markdown",
   "source": [
    "### 4.1 配置network参数字典"
   ],
   "metadata": {
    "collapsed": false
   }
  },
  {
   "cell_type": "code",
   "execution_count": 4,
   "outputs": [],
   "source": [
    "network_dict = {\n",
    "    \"num_neighbors\": 16,  # 在进行位置编码时搜索的邻域点个数\n",
    "    \"decimation\": 4,  # 在encoding阶段下采样的比例，每次下采样采样点云个数除以4\n",
    "}"
   ],
   "metadata": {
    "collapsed": false,
    "ExecuteTime": {
     "end_time": "2025-08-14T01:44:18.294609400Z",
     "start_time": "2025-08-14T01:44:18.285013900Z"
    }
   }
  },
  {
   "cell_type": "markdown",
   "source": [
    "### 4.2 配置data参数字典"
   ],
   "metadata": {
    "collapsed": false
   }
  },
  {
   "cell_type": "code",
   "execution_count": 5,
   "outputs": [],
   "source": [
    "data_dict = {\n",
    "    \"num_classes\": 2,  # 点云标注的类别数\n",
    "    \"grid_size\": 1.0,  # 降采样格网尺寸，1.0代表1m * 1m的范围内取一个点\n",
    "    \"HasIntensity\": True,  # 数据集是否有intensity属性，有也可以填False，表示不使用，默认使用\n",
    "    \"HasRGB\": False  # 数据集是否有RGB属性，有也可以填False，表示不使用\n",
    "}"
   ],
   "metadata": {
    "collapsed": false,
    "ExecuteTime": {
     "end_time": "2025-08-14T01:44:19.369608800Z",
     "start_time": "2025-08-14T01:44:19.361607900Z"
    }
   }
  },
  {
   "cell_type": "markdown",
   "source": [
    "### 4.3 配置预测参数字典"
   ],
   "metadata": {
    "collapsed": false
   }
  },
  {
   "cell_type": "code",
   "execution_count": 6,
   "outputs": [],
   "source": [
    "predict_dict = {\n",
    "    \"input_path\": 'D:/Data/FEIMA_DATA/lidar30/1/merged.las',  # 输入文件路径\n",
    "    \"save_path\": 'D:/Data/FEIMA_DATA/lidar30/1/',  # 输出预测结果目录\n",
    "    \"epoch\": 10,  # 预测总轮数\n",
    "    \"gpu\": 0,  #  gpu\n",
    "    \"batch_size\": 32,  # 预测的批次大小，即包含的点云份数，可以比train的大\n",
    "    \"step_size\": 16,  # 这一个batch在一个epoch里预测多少次\n",
    "    \"num_points_per_step\": 10000,  # 每一份点云有多少个点，与train对应\n",
    "    \"num_workers\": 1, # 设置多少线程读取内存里的点云组织成batch\n",
    "    \"smooth\": 0.95,  # 对预测标签进行平滑。0 不平滑， 0.99 更大的平滑\n",
    "    \"checkpoints\": 'C:/Users/xhy/Desktop/RandLA-Net-pytorch-master/outputs/ckpts/2025-7-31/checkpoint_114_ACC_0.92_MIOU_0.77.pth',  # 加载网络模型的路径\n",
    "    \"PredictHasRGB\": True,  # 预测的数据集是否有RGB，有就在输出的时候给点云赋色\n",
    "    \"PredictHasIntensity\": True  # 预测的数据集是否有Intensity, 默认有\n",
    "}"
   ],
   "metadata": {
    "collapsed": false,
    "ExecuteTime": {
     "end_time": "2025-08-14T01:44:19.789446100Z",
     "start_time": "2025-08-14T01:44:19.772728300Z"
    }
   }
  },
  {
   "cell_type": "markdown",
   "source": [
    "### 4.5 合并字典"
   ],
   "metadata": {
    "collapsed": false
   }
  },
  {
   "cell_type": "code",
   "execution_count": 7,
   "outputs": [],
   "source": [
    "merged_dict = network_dict | predict_dict | data_dict"
   ],
   "metadata": {
    "collapsed": false,
    "ExecuteTime": {
     "end_time": "2025-08-14T01:44:20.468443200Z",
     "start_time": "2025-08-14T01:44:20.452445400Z"
    }
   }
  },
  {
   "cell_type": "markdown",
   "source": [
    "## 第5步 实例化data loader\n",
    "与train文件的evaluate部分一样，循环将dataloader里面的数据送入载入的模型进行预测"
   ],
   "metadata": {
    "collapsed": false
   }
  },
  {
   "cell_type": "code",
   "execution_count": 8,
   "outputs": [
    {
     "name": "stdout",
     "output_type": "stream",
     "text": [
      "<torch.utils.data.dataloader.DataLoader object at 0x0000020C8A12C0D0>\n"
     ]
    }
   ],
   "source": [
    "dataset = PredictCloudDataset(merged_dict)\n",
    "device = torch.device('cuda')\n",
    "torch.cuda.set_device(int(merged_dict[\"gpu\"]))\n",
    "cloud_data = dataset.inputs\n",
    "pos = dataset.raw_pos\n",
    "point_r = cloud_data['r']\n",
    "point_g = cloud_data['g']\n",
    "point_b = cloud_data['b']\n",
    "\n",
    "sampler = ActiveLearningSampler(\n",
    "    config=merged_dict,\n",
    "    dataset=dataset,\n",
    "    batch_size=merged_dict[\"batch_size\"],\n",
    "    step_size=merged_dict[\"step_size\"]\n",
    ")\n",
    "dataloader = DataLoader(\n",
    "    sampler,\n",
    "    batch_size=merged_dict[\"batch_size\"],\n",
    "    num_workers=merged_dict[\"num_workers\"],\n",
    "    pin_memory=True,\n",
    "    drop_last=True\n",
    ")\n",
    "print(dataloader)"
   ],
   "metadata": {
    "collapsed": false,
    "ExecuteTime": {
     "end_time": "2025-08-14T01:45:15.752144900Z",
     "start_time": "2025-08-14T01:44:22.453626100Z"
    }
   }
  },
  {
   "cell_type": "markdown",
   "source": [
    "## 第6步 初始化model"
   ],
   "metadata": {
    "collapsed": false
   }
  },
  {
   "cell_type": "code",
   "execution_count": 9,
   "outputs": [
    {
     "name": "stdout",
     "output_type": "stream",
     "text": [
      "RandLANet(\n",
      "  (fc_start): Linear(in_features=4, out_features=8, bias=True)\n",
      "  (bn_start): Sequential(\n",
      "    (0): BatchNorm1d(8, eps=1e-05, momentum=0.1, affine=True, track_running_stats=True)\n",
      "    (1): LeakyReLU(negative_slope=0.2)\n",
      "  )\n",
      "  (encoder): ModuleList(\n",
      "    (0): LocalFeatureAggregation(\n",
      "      (mlp1): SharedMLP(\n",
      "        (adapter): Identity()\n",
      "        (conv): Conv1d(8, 8, kernel_size=(1,), stride=(1,))\n",
      "        (bn): BatchNorm1d(8, eps=1e-05, momentum=0.1, affine=True, track_running_stats=True)\n",
      "        (activation): LeakyReLU(negative_slope=0.2)\n",
      "      )\n",
      "      (lse1): LocalSpatialEncoding(\n",
      "        (mlp): SharedMLP(\n",
      "          (adapter): Identity()\n",
      "          (conv): Conv1d(10, 8, kernel_size=(1,), stride=(1,))\n",
      "          (bn): BatchNorm1d(8, eps=1e-05, momentum=0.1, affine=True, track_running_stats=True)\n",
      "          (activation): ReLU()\n",
      "        )\n",
      "      )\n",
      "      (pool1): AttentivePooling(\n",
      "        (linear): Linear(in_features=16, out_features=16, bias=True)\n",
      "        (softmax): Softmax(dim=-2)\n",
      "      )\n",
      "      (mlp_pool1): SharedMLP(\n",
      "        (adapter): Identity()\n",
      "        (conv): Conv1d(16, 4, kernel_size=(1,), stride=(1,))\n",
      "        (bn): BatchNorm1d(4, eps=1e-05, momentum=0.1, affine=True, track_running_stats=True)\n",
      "        (activation): ReLU()\n",
      "      )\n",
      "      (lse2): LocalSpatialEncoding(\n",
      "        (mlp): SharedMLP(\n",
      "          (adapter): Identity()\n",
      "          (conv): Conv1d(10, 4, kernel_size=(1,), stride=(1,))\n",
      "          (bn): BatchNorm1d(4, eps=1e-05, momentum=0.1, affine=True, track_running_stats=True)\n",
      "          (activation): ReLU()\n",
      "        )\n",
      "      )\n",
      "      (pool2): AttentivePooling(\n",
      "        (linear): Linear(in_features=8, out_features=8, bias=True)\n",
      "        (softmax): Softmax(dim=-2)\n",
      "      )\n",
      "      (mlp2): SharedMLP(\n",
      "        (adapter): Identity()\n",
      "        (conv): Conv1d(8, 16, kernel_size=(1,), stride=(1,))\n",
      "        (bn): BatchNorm1d(16, eps=1e-05, momentum=0.1, affine=True, track_running_stats=True)\n",
      "        (activation): ReLU()\n",
      "      )\n",
      "      (residual): SharedMLP(\n",
      "        (adapter): Identity()\n",
      "        (conv): Conv1d(8, 16, kernel_size=(1,), stride=(1,))\n",
      "        (bn): BatchNorm1d(16, eps=1e-05, momentum=0.1, affine=True, track_running_stats=True)\n",
      "        (activation): ReLU()\n",
      "      )\n",
      "      (lrelu): LeakyReLU(negative_slope=0.01)\n",
      "    )\n",
      "    (1): LocalFeatureAggregation(\n",
      "      (mlp1): SharedMLP(\n",
      "        (adapter): Identity()\n",
      "        (conv): Conv1d(32, 32, kernel_size=(1,), stride=(1,))\n",
      "        (bn): BatchNorm1d(32, eps=1e-05, momentum=0.1, affine=True, track_running_stats=True)\n",
      "        (activation): LeakyReLU(negative_slope=0.2)\n",
      "      )\n",
      "      (lse1): LocalSpatialEncoding(\n",
      "        (mlp): SharedMLP(\n",
      "          (adapter): Identity()\n",
      "          (conv): Conv1d(10, 32, kernel_size=(1,), stride=(1,))\n",
      "          (bn): BatchNorm1d(32, eps=1e-05, momentum=0.1, affine=True, track_running_stats=True)\n",
      "          (activation): ReLU()\n",
      "        )\n",
      "      )\n",
      "      (pool1): AttentivePooling(\n",
      "        (linear): Linear(in_features=64, out_features=64, bias=True)\n",
      "        (softmax): Softmax(dim=-2)\n",
      "      )\n",
      "      (mlp_pool1): SharedMLP(\n",
      "        (adapter): Identity()\n",
      "        (conv): Conv1d(64, 16, kernel_size=(1,), stride=(1,))\n",
      "        (bn): BatchNorm1d(16, eps=1e-05, momentum=0.1, affine=True, track_running_stats=True)\n",
      "        (activation): ReLU()\n",
      "      )\n",
      "      (lse2): LocalSpatialEncoding(\n",
      "        (mlp): SharedMLP(\n",
      "          (adapter): Identity()\n",
      "          (conv): Conv1d(10, 16, kernel_size=(1,), stride=(1,))\n",
      "          (bn): BatchNorm1d(16, eps=1e-05, momentum=0.1, affine=True, track_running_stats=True)\n",
      "          (activation): ReLU()\n",
      "        )\n",
      "      )\n",
      "      (pool2): AttentivePooling(\n",
      "        (linear): Linear(in_features=32, out_features=32, bias=True)\n",
      "        (softmax): Softmax(dim=-2)\n",
      "      )\n",
      "      (mlp2): SharedMLP(\n",
      "        (adapter): Identity()\n",
      "        (conv): Conv1d(32, 64, kernel_size=(1,), stride=(1,))\n",
      "        (bn): BatchNorm1d(64, eps=1e-05, momentum=0.1, affine=True, track_running_stats=True)\n",
      "        (activation): ReLU()\n",
      "      )\n",
      "      (residual): SharedMLP(\n",
      "        (adapter): Identity()\n",
      "        (conv): Conv1d(32, 64, kernel_size=(1,), stride=(1,))\n",
      "        (bn): BatchNorm1d(64, eps=1e-05, momentum=0.1, affine=True, track_running_stats=True)\n",
      "        (activation): ReLU()\n",
      "      )\n",
      "      (lrelu): LeakyReLU(negative_slope=0.01)\n",
      "    )\n",
      "    (2): LocalFeatureAggregation(\n",
      "      (mlp1): SharedMLP(\n",
      "        (adapter): Identity()\n",
      "        (conv): Conv1d(128, 64, kernel_size=(1,), stride=(1,))\n",
      "        (bn): BatchNorm1d(64, eps=1e-05, momentum=0.1, affine=True, track_running_stats=True)\n",
      "        (activation): LeakyReLU(negative_slope=0.2)\n",
      "      )\n",
      "      (lse1): LocalSpatialEncoding(\n",
      "        (mlp): SharedMLP(\n",
      "          (adapter): Identity()\n",
      "          (conv): Conv1d(10, 64, kernel_size=(1,), stride=(1,))\n",
      "          (bn): BatchNorm1d(64, eps=1e-05, momentum=0.1, affine=True, track_running_stats=True)\n",
      "          (activation): ReLU()\n",
      "        )\n",
      "      )\n",
      "      (pool1): AttentivePooling(\n",
      "        (linear): Linear(in_features=128, out_features=128, bias=True)\n",
      "        (softmax): Softmax(dim=-2)\n",
      "      )\n",
      "      (mlp_pool1): SharedMLP(\n",
      "        (adapter): Identity()\n",
      "        (conv): Conv1d(128, 32, kernel_size=(1,), stride=(1,))\n",
      "        (bn): BatchNorm1d(32, eps=1e-05, momentum=0.1, affine=True, track_running_stats=True)\n",
      "        (activation): ReLU()\n",
      "      )\n",
      "      (lse2): LocalSpatialEncoding(\n",
      "        (mlp): SharedMLP(\n",
      "          (adapter): Identity()\n",
      "          (conv): Conv1d(10, 32, kernel_size=(1,), stride=(1,))\n",
      "          (bn): BatchNorm1d(32, eps=1e-05, momentum=0.1, affine=True, track_running_stats=True)\n",
      "          (activation): ReLU()\n",
      "        )\n",
      "      )\n",
      "      (pool2): AttentivePooling(\n",
      "        (linear): Linear(in_features=64, out_features=64, bias=True)\n",
      "        (softmax): Softmax(dim=-2)\n",
      "      )\n",
      "      (mlp2): SharedMLP(\n",
      "        (adapter): Identity()\n",
      "        (conv): Conv1d(64, 128, kernel_size=(1,), stride=(1,))\n",
      "        (bn): BatchNorm1d(128, eps=1e-05, momentum=0.1, affine=True, track_running_stats=True)\n",
      "        (activation): ReLU()\n",
      "      )\n",
      "      (residual): SharedMLP(\n",
      "        (adapter): Identity()\n",
      "        (conv): Conv1d(128, 128, kernel_size=(1,), stride=(1,))\n",
      "        (bn): BatchNorm1d(128, eps=1e-05, momentum=0.1, affine=True, track_running_stats=True)\n",
      "        (activation): ReLU()\n",
      "      )\n",
      "      (lrelu): LeakyReLU(negative_slope=0.01)\n",
      "    )\n",
      "    (3): LocalFeatureAggregation(\n",
      "      (mlp1): SharedMLP(\n",
      "        (adapter): Identity()\n",
      "        (conv): Conv1d(256, 128, kernel_size=(1,), stride=(1,))\n",
      "        (bn): BatchNorm1d(128, eps=1e-05, momentum=0.1, affine=True, track_running_stats=True)\n",
      "        (activation): LeakyReLU(negative_slope=0.2)\n",
      "      )\n",
      "      (lse1): LocalSpatialEncoding(\n",
      "        (mlp): SharedMLP(\n",
      "          (adapter): Identity()\n",
      "          (conv): Conv1d(10, 128, kernel_size=(1,), stride=(1,))\n",
      "          (bn): BatchNorm1d(128, eps=1e-05, momentum=0.1, affine=True, track_running_stats=True)\n",
      "          (activation): ReLU()\n",
      "        )\n",
      "      )\n",
      "      (pool1): AttentivePooling(\n",
      "        (linear): Linear(in_features=256, out_features=256, bias=True)\n",
      "        (softmax): Softmax(dim=-2)\n",
      "      )\n",
      "      (mlp_pool1): SharedMLP(\n",
      "        (adapter): Identity()\n",
      "        (conv): Conv1d(256, 64, kernel_size=(1,), stride=(1,))\n",
      "        (bn): BatchNorm1d(64, eps=1e-05, momentum=0.1, affine=True, track_running_stats=True)\n",
      "        (activation): ReLU()\n",
      "      )\n",
      "      (lse2): LocalSpatialEncoding(\n",
      "        (mlp): SharedMLP(\n",
      "          (adapter): Identity()\n",
      "          (conv): Conv1d(10, 64, kernel_size=(1,), stride=(1,))\n",
      "          (bn): BatchNorm1d(64, eps=1e-05, momentum=0.1, affine=True, track_running_stats=True)\n",
      "          (activation): ReLU()\n",
      "        )\n",
      "      )\n",
      "      (pool2): AttentivePooling(\n",
      "        (linear): Linear(in_features=128, out_features=128, bias=True)\n",
      "        (softmax): Softmax(dim=-2)\n",
      "      )\n",
      "      (mlp2): SharedMLP(\n",
      "        (adapter): Identity()\n",
      "        (conv): Conv1d(128, 256, kernel_size=(1,), stride=(1,))\n",
      "        (bn): BatchNorm1d(256, eps=1e-05, momentum=0.1, affine=True, track_running_stats=True)\n",
      "        (activation): ReLU()\n",
      "      )\n",
      "      (residual): SharedMLP(\n",
      "        (adapter): Identity()\n",
      "        (conv): Conv1d(256, 256, kernel_size=(1,), stride=(1,))\n",
      "        (bn): BatchNorm1d(256, eps=1e-05, momentum=0.1, affine=True, track_running_stats=True)\n",
      "        (activation): ReLU()\n",
      "      )\n",
      "      (lrelu): LeakyReLU(negative_slope=0.01)\n",
      "    )\n",
      "  )\n",
      "  (decoder): ModuleList(\n",
      "    (0): SharedMLP(\n",
      "      (adapter): Identity()\n",
      "      (conv): Conv1d(1024, 256, kernel_size=(1,), stride=(1,))\n",
      "      (bn): BatchNorm1d(256, eps=1e-05, momentum=0.1, affine=True, track_running_stats=True)\n",
      "      (activation): ReLU()\n",
      "    )\n",
      "    (1): SharedMLP(\n",
      "      (adapter): Identity()\n",
      "      (conv): Conv1d(512, 128, kernel_size=(1,), stride=(1,))\n",
      "      (bn): BatchNorm1d(128, eps=1e-05, momentum=0.1, affine=True, track_running_stats=True)\n",
      "      (activation): ReLU()\n",
      "    )\n",
      "    (2): SharedMLP(\n",
      "      (adapter): Identity()\n",
      "      (conv): Conv1d(256, 32, kernel_size=(1,), stride=(1,))\n",
      "      (bn): BatchNorm1d(32, eps=1e-05, momentum=0.1, affine=True, track_running_stats=True)\n",
      "      (activation): ReLU()\n",
      "    )\n",
      "    (3): SharedMLP(\n",
      "      (adapter): Identity()\n",
      "      (conv): Conv1d(64, 8, kernel_size=(1,), stride=(1,))\n",
      "      (bn): BatchNorm1d(8, eps=1e-05, momentum=0.1, affine=True, track_running_stats=True)\n",
      "      (activation): ReLU()\n",
      "    )\n",
      "  )\n",
      "  (fc_end): Sequential(\n",
      "    (0): SharedMLP(\n",
      "      (adapter): Identity()\n",
      "      (conv): Conv1d(8, 64, kernel_size=(1,), stride=(1,))\n",
      "      (bn): BatchNorm1d(64, eps=1e-05, momentum=0.1, affine=True, track_running_stats=True)\n",
      "      (activation): ReLU()\n",
      "    )\n",
      "    (1): SharedMLP(\n",
      "      (adapter): Identity()\n",
      "      (conv): Conv1d(64, 32, kernel_size=(1,), stride=(1,))\n",
      "      (bn): BatchNorm1d(32, eps=1e-05, momentum=0.1, affine=True, track_running_stats=True)\n",
      "      (activation): ReLU()\n",
      "    )\n",
      "    (2): Dropout(p=0.5, inplace=False)\n",
      "    (3): SharedMLP(\n",
      "      (adapter): Identity()\n",
      "      (conv): Conv1d(32, 2, kernel_size=(1,), stride=(1,))\n",
      "      (bn): BatchNorm1d(2, eps=1e-05, momentum=0.1, affine=True, track_running_stats=True)\n",
      "      (activation): ReLU()\n",
      "    )\n",
      "  )\n",
      ")\n"
     ]
    }
   ],
   "source": [
    "num_classes = merged_dict[\"num_classes\"]\n",
    "d_in = 3\n",
    "if merged_dict[\"HasRGB\"]:\n",
    "    d_in += 3\n",
    "if merged_dict[\"HasIntensity\"]:\n",
    "    d_in += 1\n",
    "\n",
    "model = RandLANet(\n",
    "    d_in,\n",
    "    num_classes,\n",
    "    num_neighbors=merged_dict[\"num_neighbors\"],\n",
    "    decimation=merged_dict[\"decimation\"],\n",
    "    device=device\n",
    ").to(device)\n",
    "print(model)"
   ],
   "metadata": {
    "collapsed": false,
    "ExecuteTime": {
     "end_time": "2025-08-14T01:45:15.815142900Z",
     "start_time": "2025-08-14T01:45:15.758145500Z"
    }
   }
  },
  {
   "cell_type": "markdown",
   "source": [
    "## 第7步 载入训练好的网络模型"
   ],
   "metadata": {
    "collapsed": false
   }
  },
  {
   "cell_type": "code",
   "execution_count": 10,
   "outputs": [
    {
     "name": "stdout",
     "output_type": "stream",
     "text": [
      "RandLANet(\n",
      "  (fc_start): Linear(in_features=4, out_features=8, bias=True)\n",
      "  (bn_start): Sequential(\n",
      "    (0): BatchNorm1d(8, eps=1e-05, momentum=0.1, affine=True, track_running_stats=True)\n",
      "    (1): LeakyReLU(negative_slope=0.2)\n",
      "  )\n",
      "  (encoder): ModuleList(\n",
      "    (0): LocalFeatureAggregation(\n",
      "      (mlp1): SharedMLP(\n",
      "        (adapter): Identity()\n",
      "        (conv): Conv1d(8, 8, kernel_size=(1,), stride=(1,))\n",
      "        (bn): BatchNorm1d(8, eps=1e-05, momentum=0.1, affine=True, track_running_stats=True)\n",
      "        (activation): LeakyReLU(negative_slope=0.2)\n",
      "      )\n",
      "      (lse1): LocalSpatialEncoding(\n",
      "        (mlp): SharedMLP(\n",
      "          (adapter): Identity()\n",
      "          (conv): Conv1d(10, 8, kernel_size=(1,), stride=(1,))\n",
      "          (bn): BatchNorm1d(8, eps=1e-05, momentum=0.1, affine=True, track_running_stats=True)\n",
      "          (activation): ReLU()\n",
      "        )\n",
      "      )\n",
      "      (pool1): AttentivePooling(\n",
      "        (linear): Linear(in_features=16, out_features=16, bias=True)\n",
      "        (softmax): Softmax(dim=-2)\n",
      "      )\n",
      "      (mlp_pool1): SharedMLP(\n",
      "        (adapter): Identity()\n",
      "        (conv): Conv1d(16, 4, kernel_size=(1,), stride=(1,))\n",
      "        (bn): BatchNorm1d(4, eps=1e-05, momentum=0.1, affine=True, track_running_stats=True)\n",
      "        (activation): ReLU()\n",
      "      )\n",
      "      (lse2): LocalSpatialEncoding(\n",
      "        (mlp): SharedMLP(\n",
      "          (adapter): Identity()\n",
      "          (conv): Conv1d(10, 4, kernel_size=(1,), stride=(1,))\n",
      "          (bn): BatchNorm1d(4, eps=1e-05, momentum=0.1, affine=True, track_running_stats=True)\n",
      "          (activation): ReLU()\n",
      "        )\n",
      "      )\n",
      "      (pool2): AttentivePooling(\n",
      "        (linear): Linear(in_features=8, out_features=8, bias=True)\n",
      "        (softmax): Softmax(dim=-2)\n",
      "      )\n",
      "      (mlp2): SharedMLP(\n",
      "        (adapter): Identity()\n",
      "        (conv): Conv1d(8, 16, kernel_size=(1,), stride=(1,))\n",
      "        (bn): BatchNorm1d(16, eps=1e-05, momentum=0.1, affine=True, track_running_stats=True)\n",
      "        (activation): ReLU()\n",
      "      )\n",
      "      (residual): SharedMLP(\n",
      "        (adapter): Identity()\n",
      "        (conv): Conv1d(8, 16, kernel_size=(1,), stride=(1,))\n",
      "        (bn): BatchNorm1d(16, eps=1e-05, momentum=0.1, affine=True, track_running_stats=True)\n",
      "        (activation): ReLU()\n",
      "      )\n",
      "      (lrelu): LeakyReLU(negative_slope=0.01)\n",
      "    )\n",
      "    (1): LocalFeatureAggregation(\n",
      "      (mlp1): SharedMLP(\n",
      "        (adapter): Identity()\n",
      "        (conv): Conv1d(32, 32, kernel_size=(1,), stride=(1,))\n",
      "        (bn): BatchNorm1d(32, eps=1e-05, momentum=0.1, affine=True, track_running_stats=True)\n",
      "        (activation): LeakyReLU(negative_slope=0.2)\n",
      "      )\n",
      "      (lse1): LocalSpatialEncoding(\n",
      "        (mlp): SharedMLP(\n",
      "          (adapter): Identity()\n",
      "          (conv): Conv1d(10, 32, kernel_size=(1,), stride=(1,))\n",
      "          (bn): BatchNorm1d(32, eps=1e-05, momentum=0.1, affine=True, track_running_stats=True)\n",
      "          (activation): ReLU()\n",
      "        )\n",
      "      )\n",
      "      (pool1): AttentivePooling(\n",
      "        (linear): Linear(in_features=64, out_features=64, bias=True)\n",
      "        (softmax): Softmax(dim=-2)\n",
      "      )\n",
      "      (mlp_pool1): SharedMLP(\n",
      "        (adapter): Identity()\n",
      "        (conv): Conv1d(64, 16, kernel_size=(1,), stride=(1,))\n",
      "        (bn): BatchNorm1d(16, eps=1e-05, momentum=0.1, affine=True, track_running_stats=True)\n",
      "        (activation): ReLU()\n",
      "      )\n",
      "      (lse2): LocalSpatialEncoding(\n",
      "        (mlp): SharedMLP(\n",
      "          (adapter): Identity()\n",
      "          (conv): Conv1d(10, 16, kernel_size=(1,), stride=(1,))\n",
      "          (bn): BatchNorm1d(16, eps=1e-05, momentum=0.1, affine=True, track_running_stats=True)\n",
      "          (activation): ReLU()\n",
      "        )\n",
      "      )\n",
      "      (pool2): AttentivePooling(\n",
      "        (linear): Linear(in_features=32, out_features=32, bias=True)\n",
      "        (softmax): Softmax(dim=-2)\n",
      "      )\n",
      "      (mlp2): SharedMLP(\n",
      "        (adapter): Identity()\n",
      "        (conv): Conv1d(32, 64, kernel_size=(1,), stride=(1,))\n",
      "        (bn): BatchNorm1d(64, eps=1e-05, momentum=0.1, affine=True, track_running_stats=True)\n",
      "        (activation): ReLU()\n",
      "      )\n",
      "      (residual): SharedMLP(\n",
      "        (adapter): Identity()\n",
      "        (conv): Conv1d(32, 64, kernel_size=(1,), stride=(1,))\n",
      "        (bn): BatchNorm1d(64, eps=1e-05, momentum=0.1, affine=True, track_running_stats=True)\n",
      "        (activation): ReLU()\n",
      "      )\n",
      "      (lrelu): LeakyReLU(negative_slope=0.01)\n",
      "    )\n",
      "    (2): LocalFeatureAggregation(\n",
      "      (mlp1): SharedMLP(\n",
      "        (adapter): Identity()\n",
      "        (conv): Conv1d(128, 64, kernel_size=(1,), stride=(1,))\n",
      "        (bn): BatchNorm1d(64, eps=1e-05, momentum=0.1, affine=True, track_running_stats=True)\n",
      "        (activation): LeakyReLU(negative_slope=0.2)\n",
      "      )\n",
      "      (lse1): LocalSpatialEncoding(\n",
      "        (mlp): SharedMLP(\n",
      "          (adapter): Identity()\n",
      "          (conv): Conv1d(10, 64, kernel_size=(1,), stride=(1,))\n",
      "          (bn): BatchNorm1d(64, eps=1e-05, momentum=0.1, affine=True, track_running_stats=True)\n",
      "          (activation): ReLU()\n",
      "        )\n",
      "      )\n",
      "      (pool1): AttentivePooling(\n",
      "        (linear): Linear(in_features=128, out_features=128, bias=True)\n",
      "        (softmax): Softmax(dim=-2)\n",
      "      )\n",
      "      (mlp_pool1): SharedMLP(\n",
      "        (adapter): Identity()\n",
      "        (conv): Conv1d(128, 32, kernel_size=(1,), stride=(1,))\n",
      "        (bn): BatchNorm1d(32, eps=1e-05, momentum=0.1, affine=True, track_running_stats=True)\n",
      "        (activation): ReLU()\n",
      "      )\n",
      "      (lse2): LocalSpatialEncoding(\n",
      "        (mlp): SharedMLP(\n",
      "          (adapter): Identity()\n",
      "          (conv): Conv1d(10, 32, kernel_size=(1,), stride=(1,))\n",
      "          (bn): BatchNorm1d(32, eps=1e-05, momentum=0.1, affine=True, track_running_stats=True)\n",
      "          (activation): ReLU()\n",
      "        )\n",
      "      )\n",
      "      (pool2): AttentivePooling(\n",
      "        (linear): Linear(in_features=64, out_features=64, bias=True)\n",
      "        (softmax): Softmax(dim=-2)\n",
      "      )\n",
      "      (mlp2): SharedMLP(\n",
      "        (adapter): Identity()\n",
      "        (conv): Conv1d(64, 128, kernel_size=(1,), stride=(1,))\n",
      "        (bn): BatchNorm1d(128, eps=1e-05, momentum=0.1, affine=True, track_running_stats=True)\n",
      "        (activation): ReLU()\n",
      "      )\n",
      "      (residual): SharedMLP(\n",
      "        (adapter): Identity()\n",
      "        (conv): Conv1d(128, 128, kernel_size=(1,), stride=(1,))\n",
      "        (bn): BatchNorm1d(128, eps=1e-05, momentum=0.1, affine=True, track_running_stats=True)\n",
      "        (activation): ReLU()\n",
      "      )\n",
      "      (lrelu): LeakyReLU(negative_slope=0.01)\n",
      "    )\n",
      "    (3): LocalFeatureAggregation(\n",
      "      (mlp1): SharedMLP(\n",
      "        (adapter): Identity()\n",
      "        (conv): Conv1d(256, 128, kernel_size=(1,), stride=(1,))\n",
      "        (bn): BatchNorm1d(128, eps=1e-05, momentum=0.1, affine=True, track_running_stats=True)\n",
      "        (activation): LeakyReLU(negative_slope=0.2)\n",
      "      )\n",
      "      (lse1): LocalSpatialEncoding(\n",
      "        (mlp): SharedMLP(\n",
      "          (adapter): Identity()\n",
      "          (conv): Conv1d(10, 128, kernel_size=(1,), stride=(1,))\n",
      "          (bn): BatchNorm1d(128, eps=1e-05, momentum=0.1, affine=True, track_running_stats=True)\n",
      "          (activation): ReLU()\n",
      "        )\n",
      "      )\n",
      "      (pool1): AttentivePooling(\n",
      "        (linear): Linear(in_features=256, out_features=256, bias=True)\n",
      "        (softmax): Softmax(dim=-2)\n",
      "      )\n",
      "      (mlp_pool1): SharedMLP(\n",
      "        (adapter): Identity()\n",
      "        (conv): Conv1d(256, 64, kernel_size=(1,), stride=(1,))\n",
      "        (bn): BatchNorm1d(64, eps=1e-05, momentum=0.1, affine=True, track_running_stats=True)\n",
      "        (activation): ReLU()\n",
      "      )\n",
      "      (lse2): LocalSpatialEncoding(\n",
      "        (mlp): SharedMLP(\n",
      "          (adapter): Identity()\n",
      "          (conv): Conv1d(10, 64, kernel_size=(1,), stride=(1,))\n",
      "          (bn): BatchNorm1d(64, eps=1e-05, momentum=0.1, affine=True, track_running_stats=True)\n",
      "          (activation): ReLU()\n",
      "        )\n",
      "      )\n",
      "      (pool2): AttentivePooling(\n",
      "        (linear): Linear(in_features=128, out_features=128, bias=True)\n",
      "        (softmax): Softmax(dim=-2)\n",
      "      )\n",
      "      (mlp2): SharedMLP(\n",
      "        (adapter): Identity()\n",
      "        (conv): Conv1d(128, 256, kernel_size=(1,), stride=(1,))\n",
      "        (bn): BatchNorm1d(256, eps=1e-05, momentum=0.1, affine=True, track_running_stats=True)\n",
      "        (activation): ReLU()\n",
      "      )\n",
      "      (residual): SharedMLP(\n",
      "        (adapter): Identity()\n",
      "        (conv): Conv1d(256, 256, kernel_size=(1,), stride=(1,))\n",
      "        (bn): BatchNorm1d(256, eps=1e-05, momentum=0.1, affine=True, track_running_stats=True)\n",
      "        (activation): ReLU()\n",
      "      )\n",
      "      (lrelu): LeakyReLU(negative_slope=0.01)\n",
      "    )\n",
      "  )\n",
      "  (decoder): ModuleList(\n",
      "    (0): SharedMLP(\n",
      "      (adapter): Identity()\n",
      "      (conv): Conv1d(1024, 256, kernel_size=(1,), stride=(1,))\n",
      "      (bn): BatchNorm1d(256, eps=1e-05, momentum=0.1, affine=True, track_running_stats=True)\n",
      "      (activation): ReLU()\n",
      "    )\n",
      "    (1): SharedMLP(\n",
      "      (adapter): Identity()\n",
      "      (conv): Conv1d(512, 128, kernel_size=(1,), stride=(1,))\n",
      "      (bn): BatchNorm1d(128, eps=1e-05, momentum=0.1, affine=True, track_running_stats=True)\n",
      "      (activation): ReLU()\n",
      "    )\n",
      "    (2): SharedMLP(\n",
      "      (adapter): Identity()\n",
      "      (conv): Conv1d(256, 32, kernel_size=(1,), stride=(1,))\n",
      "      (bn): BatchNorm1d(32, eps=1e-05, momentum=0.1, affine=True, track_running_stats=True)\n",
      "      (activation): ReLU()\n",
      "    )\n",
      "    (3): SharedMLP(\n",
      "      (adapter): Identity()\n",
      "      (conv): Conv1d(64, 8, kernel_size=(1,), stride=(1,))\n",
      "      (bn): BatchNorm1d(8, eps=1e-05, momentum=0.1, affine=True, track_running_stats=True)\n",
      "      (activation): ReLU()\n",
      "    )\n",
      "  )\n",
      "  (fc_end): Sequential(\n",
      "    (0): SharedMLP(\n",
      "      (adapter): Identity()\n",
      "      (conv): Conv1d(8, 64, kernel_size=(1,), stride=(1,))\n",
      "      (bn): BatchNorm1d(64, eps=1e-05, momentum=0.1, affine=True, track_running_stats=True)\n",
      "      (activation): ReLU()\n",
      "    )\n",
      "    (1): SharedMLP(\n",
      "      (adapter): Identity()\n",
      "      (conv): Conv1d(64, 32, kernel_size=(1,), stride=(1,))\n",
      "      (bn): BatchNorm1d(32, eps=1e-05, momentum=0.1, affine=True, track_running_stats=True)\n",
      "      (activation): ReLU()\n",
      "    )\n",
      "    (2): Dropout(p=0.5, inplace=False)\n",
      "    (3): SharedMLP(\n",
      "      (adapter): Identity()\n",
      "      (conv): Conv1d(32, 2, kernel_size=(1,), stride=(1,))\n",
      "      (bn): BatchNorm1d(2, eps=1e-05, momentum=0.1, affine=True, track_running_stats=True)\n",
      "      (activation): ReLU()\n",
      "    )\n",
      "  )\n",
      ")\n"
     ]
    }
   ],
   "source": [
    "# 加载完整检查点\n",
    "checkpoint = torch.load(merged_dict[\"checkpoints\"], map_location=\"cuda\", weights_only=False)\n",
    "\n",
    "# 直接提取 model_state_dict\n",
    "model_state_dict = checkpoint['model_state_dict']\n",
    "\n",
    "# 加载到模型中（strict=True 推荐用于严格匹配）\n",
    "model.load_state_dict(model_state_dict, strict=True)\n",
    "\n",
    "model.eval()\n",
    "\n",
    "num_points = len(dataset.inputs)\n",
    "all_preds = torch.zeros((num_points, merged_dict[\"num_classes\"])).to(device)\n",
    "count = torch.zeros(num_points).to(device)  # 记录每个点被预测的次数\n",
    "print(model)"
   ],
   "metadata": {
    "collapsed": false,
    "ExecuteTime": {
     "end_time": "2025-08-14T01:45:15.986144900Z",
     "start_time": "2025-08-14T01:45:15.815142900Z"
    }
   }
  },
  {
   "cell_type": "markdown",
   "source": [
    "## 第8步 在没有梯度情况下对点云类别进行预测\n",
    "- 需要注意的是，predict.yaml文件中的num_epoch、batch_size、step_size、num_points_per_step需要协调好\n",
    "- 保证点云内的所有点都能预测多次"
   ],
   "metadata": {
    "collapsed": false
   }
  },
  {
   "cell_type": "code",
   "execution_count": 11,
   "outputs": [
    {
     "name": "stderr",
     "output_type": "stream",
     "text": [
      "100%|██████████| 10/10 [02:46<00:00, 16.70s/it]"
     ]
    },
    {
     "name": "stdout",
     "output_type": "stream",
     "text": [
      "tensor([1, 1, 1,  ..., 1, 1, 1])\n"
     ]
    },
    {
     "name": "stderr",
     "output_type": "stream",
     "text": [
      "\n"
     ]
    }
   ],
   "source": [
    "with torch.no_grad():\n",
    "    for i in tqdm(range(merged_dict[\"epoch\"])):\n",
    "        for points in dataloader:\n",
    "            points = {k: v.to(device, non_blocking=True) for k, v in points.items()}\n",
    "            feature = points['xyz']\n",
    "            indices_step = points['index']\n",
    "            if merged_dict[\"HasRGB\"]:\n",
    "                rgb = points['rgb']\n",
    "                feature = torch.cat((feature, rgb), dim=2)\n",
    "            if merged_dict[\"HasIntensity\"]:\n",
    "                intensity = points['intensity'].unsqueeze(-1)\n",
    "                feature = torch.cat((feature, intensity), dim=2)\n",
    "\n",
    "            # 模型预测 (省略特征提取代码)\n",
    "            scores = model(feature).to(device).permute(0, 2, 1)\n",
    "            scores = torch.softmax(scores, dim=-1)\n",
    "            # 合并预测结果\n",
    "            global_indices = indices_step.to(device)\n",
    "            for i in range(merged_dict[\"batch_size\"]):\n",
    "                point_indices = global_indices[i:i + 1].view(-1).long().to(device)  # 确保为整数类型\n",
    "                current_scores = scores[i].to(device)  # 确保为浮点类型\n",
    "                all_preds = all_preds.to(device)\n",
    "                all_preds[point_indices] += current_scores\n",
    "                count[point_indices] += 1\n",
    "# 平均投票结果\n",
    "all_preds /= count.clamp(min=1).unsqueeze(-1)\n",
    "all_preds = all_preds.cpu()\n",
    "labels = torch.argmax(all_preds, dim=-1)\n",
    "print(labels)"
   ],
   "metadata": {
    "collapsed": false,
    "ExecuteTime": {
     "end_time": "2025-08-14T01:48:03.052314900Z",
     "start_time": "2025-08-14T01:45:15.992145700Z"
    }
   }
  },
  {
   "cell_type": "markdown",
   "source": [
    "## 第9步 读取完整原始点云，将预测的label嵌入点云信息并输出"
   ],
   "metadata": {
    "collapsed": false
   }
  },
  {
   "cell_type": "code",
   "execution_count": 12,
   "outputs": [
    {
     "name": "stdout",
     "output_type": "stream",
     "text": [
      "(1277925,)\n"
     ]
    }
   ],
   "source": [
    "red = np.zeros(pos.shape)\n",
    "green = np.zeros(pos.shape)\n",
    "blue = np.zeros(pos.shape)\n",
    "if merged_dict[\"PredictHasRGB\"]:\n",
    "    red = point_r\n",
    "    green = point_g\n",
    "    blue = point_b\n",
    "\n",
    "lasfilename = 'EDITED.las'\n",
    "output_path = os.path.join(merged_dict[\"save_path\"], lasfilename)\n",
    "output_path = output_path.replace(os.sep, '/')\n",
    "\n",
    "# 创建las文件\n",
    "# 1. Create a new header\n",
    "header = laspy.LasHeader(point_format=3, version=\"1.2\")\n",
    "# header.offsets = np.min(cluster_points, axis=0)\n",
    "# header.scales = np.array([1, 1, 1])\n",
    "\n",
    "# 2. Create a Las\n",
    "las = laspy.LasData(header)\n",
    "\n",
    "las.x = pos[:, 0]\n",
    "las.y = pos[:, 1]\n",
    "las.z = pos[:, 2]\n",
    "\n",
    "las.red = red\n",
    "las.green = green\n",
    "las.blue = blue\n",
    "\n",
    "las.classification = labels.numpy()\n",
    "\n",
    "las.write(output_path)\n",
    "print(las.x.shape)"
   ],
   "metadata": {
    "collapsed": false,
    "ExecuteTime": {
     "end_time": "2025-08-14T01:48:03.424423800Z",
     "start_time": "2025-08-14T01:48:03.023279200Z"
    }
   }
  },
  {
   "cell_type": "code",
   "execution_count": null,
   "outputs": [],
   "source": [],
   "metadata": {
    "collapsed": false
   }
  },
  {
   "cell_type": "code",
   "execution_count": null,
   "outputs": [],
   "source": [],
   "metadata": {
    "collapsed": false
   }
  }
 ],
 "metadata": {
  "kernelspec": {
   "display_name": "Python 3",
   "language": "python",
   "name": "python3"
  },
  "language_info": {
   "codemirror_mode": {
    "name": "ipython",
    "version": 2
   },
   "file_extension": ".py",
   "mimetype": "text/x-python",
   "name": "python",
   "nbconvert_exporter": "python",
   "pygments_lexer": "ipython2",
   "version": "2.7.6"
  }
 },
 "nbformat": 4,
 "nbformat_minor": 0
}
